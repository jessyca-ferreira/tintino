{
 "cells": [
  {
   "cell_type": "code",
   "execution_count": 1,
   "id": "1bf83719",
   "metadata": {},
   "outputs": [
    {
     "name": "stdout",
     "output_type": "stream",
     "text": [
      "\u001b[32mINFO    \u001b[0m - \u001b[32m[api.database]\u001b[0m Using Firebase database configuration.\u001b[0m\n",
      "\u001b[32mINFO    \u001b[0m - \u001b[32m[api.database.firebase]\u001b[0m Firebase inicializado com sucesso.\u001b[0m\n",
      "\u001b[32mINFO    \u001b[0m - \u001b[32m[api.database]\u001b[0m Firebase database initialized successfully.\u001b[0m\n",
      "\u001b[32mINFO    \u001b[0m - \u001b[32m[api.models.google]\u001b[0m Carregando modelo gemini-2.5-flash via Langchain\u001b[0m\n",
      "\u001b[32mINFO    \u001b[0m - \u001b[32m[api.models.google]\u001b[0m Modelo gemini-2.5-flash carregado com sucesso.\u001b[0m\n",
      "\u001b[32mINFO    \u001b[0m - \u001b[32m[api.models.google]\u001b[0m Configurando cliente GenAI com a chave da API do Gemini\u001b[0m\n",
      "\u001b[32mINFO    \u001b[0m - \u001b[32m[api.models.google]\u001b[0m Cliente GenAI configurado com sucesso.\u001b[0m\n"
     ]
    }
   ],
   "source": [
    "from api.database import db\n",
    "from api.models.prompts import continue_chat_prompt\n",
    "from langchain_core.messages import HumanMessage, SystemMessage, AIMessage\n",
    "from api.models.google import continue_chat_llm\n",
    "\n",
    "chat_id = \"4a4bfe5d-00f6-4846-a634-82ab5e891163\""
   ]
  },
  {
   "cell_type": "code",
   "execution_count": 2,
   "id": "52889f90",
   "metadata": {},
   "outputs": [
    {
     "data": {
      "text/plain": [
       "ChatItems(history='Era uma vez, em uma rua tranquila, um gatinho chamado Pingo. Pingo acordou bem cedinho, antes mesmo do sol aparecer. Ele espreguiçou e olhou pela janela. A rua ainda estava um pouco escura, mas logo, logo o céu começou a mudar de cor. Um laranja e rosa pintavam o horizonte, anunciando que o sol estava chegando para iluminar tudo!', painted_items='Sol', last_image='https://storage.googleapis.com/louie-c5c20.firebasestorage.app/f4b7b9e2-b26a-480a-ac43-0e085482390f/4a4bfe5d-00f6-4846-a634-82ab5e891163/0/images/scene_image.png/6151d5d9-2552-462d-81ec-b0ab4bf9f192.png')"
      ]
     },
     "execution_count": 2,
     "metadata": {},
     "output_type": "execute_result"
    }
   ],
   "source": [
    "items = db.get_chat_items(chat_id)\n",
    "items"
   ]
  },
  {
   "cell_type": "code",
   "execution_count": 3,
   "id": "29a8df6d",
   "metadata": {},
   "outputs": [],
   "source": [
    "    \n",
    "messages = [\n",
    "    AIMessage(content=[{\n",
    "        \"type\": \"image_url\",\n",
    "        \"image_url\": items.last_image,\n",
    "    }]),\n",
    "    SystemMessage(content=continue_chat_prompt.format(\n",
    "        history=items.history,\n",
    "        painted_items=items.painted_items\n",
    "    )),\n",
    "    HumanMessage(content=\"Continue a história\")\n",
    "]\n",
    "    \n",
    "result = continue_chat_llm.invoke(messages)\n"
   ]
  },
  {
   "cell_type": "code",
   "execution_count": 4,
   "id": "b10e4276",
   "metadata": {},
   "outputs": [
    {
     "data": {
      "text/plain": [
       "ContinueChat(paint_image='Gatinho', text_voice='O sol começava a se pôr, pintando o céu de tons alaranjados e rosados. Era o momento perfeito para o Gato Bigodes explorar a rua. Ele se sentou bem no meio, com suas orelhas atentas a cada barulhinho e seus olhos brilhantes observando as casas. De repente, uma janela se abriu, e um amigo felino apareceu, miando um olá.', intro_voice='Que tal desenhar um gatinho?', scene_image_description='Uma rua tranquila com casas coloridas e árvores, e um gatinho curioso sentado no asfalto, observando o movimento.')"
      ]
     },
     "execution_count": 4,
     "metadata": {},
     "output_type": "execute_result"
    }
   ],
   "source": [
    "result"
   ]
  }
 ],
 "metadata": {
  "kernelspec": {
   "display_name": "louie",
   "language": "python",
   "name": "python3"
  },
  "language_info": {
   "codemirror_mode": {
    "name": "ipython",
    "version": 3
   },
   "file_extension": ".py",
   "mimetype": "text/x-python",
   "name": "python",
   "nbconvert_exporter": "python",
   "pygments_lexer": "ipython3",
   "version": "3.10.6"
  }
 },
 "nbformat": 4,
 "nbformat_minor": 5
}
